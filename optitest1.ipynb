{
 "cells": [
  {
   "cell_type": "code",
   "execution_count": 1,
   "id": "fff3e411-2cf3-44d8-9bea-90c7d245a468",
   "metadata": {},
   "outputs": [
    {
     "name": "stdout",
     "output_type": "stream",
     "text": [
      "Requirement already satisfied: gurobipy>=10.0 in c:\\users\\akshay\\anaconda3\\lib\\site-packages (12.0.0)Note: you may need to restart the kernel to use updated packages.\n",
      "\n",
      "Requirement already satisfied: numpy in c:\\users\\akshay\\appdata\\roaming\\python\\python311\\site-packages (1.25.2)\n",
      "Note: you may need to restart the kernel to use updated packages.\n",
      "Requirement already satisfied: scipy in c:\\users\\akshay\\appdata\\roaming\\python\\python311\\site-packages (1.11.2)\n",
      "Requirement already satisfied: numpy<1.28.0,>=1.21.6 in c:\\users\\akshay\\appdata\\roaming\\python\\python311\\site-packages (from scipy) (1.25.2)\n",
      "Note: you may need to restart the kernel to use updated packages.\n",
      "Requirement already satisfied: pandas in c:\\users\\akshay\\appdata\\roaming\\python\\python311\\site-packages (2.0.3)\n",
      "Requirement already satisfied: python-dateutil>=2.8.2 in c:\\users\\akshay\\appdata\\roaming\\python\\python311\\site-packages (from pandas) (2.8.2)\n",
      "Requirement already satisfied: pytz>=2020.1 in c:\\users\\akshay\\appdata\\roaming\\python\\python311\\site-packages (from pandas) (2023.3)\n",
      "Requirement already satisfied: tzdata>=2022.1 in c:\\users\\akshay\\appdata\\roaming\\python\\python311\\site-packages (from pandas) (2023.3)\n",
      "Requirement already satisfied: numpy>=1.21.0 in c:\\users\\akshay\\appdata\\roaming\\python\\python311\\site-packages (from pandas) (1.25.2)\n",
      "Requirement already satisfied: six>=1.5 in c:\\users\\akshay\\appdata\\roaming\\python\\python311\\site-packages (from python-dateutil>=2.8.2->pandas) (1.16.0)\n",
      "Note: you may need to restart the kernel to use updated packages.\n"
     ]
    }
   ],
   "source": [
    "%pip install \"gurobipy>=10.0\"\n",
    "\n",
    "# Install other dependencies\n",
    "%pip install numpy\n",
    "%pip install scipy\n",
    "%pip install pandas"
   ]
  },
  {
   "cell_type": "code",
   "execution_count": 2,
   "id": "a100f860-f16e-4120-92af-260b52be71b1",
   "metadata": {},
   "outputs": [],
   "source": [
    "import os\n",
    "os.environ['GRB_LICENSE_FILE'] = r'C:\\Users\\AKSHAY\\gurobi.lic'\n"
   ]
  },
  {
   "cell_type": "code",
   "execution_count": 3,
   "id": "e9f5ff62-6569-4707-8daa-6ca13ac927e5",
   "metadata": {},
   "outputs": [],
   "source": [
    "import gurobipy as gp \n",
    "from gurobipy import GRB"
   ]
  },
  {
   "cell_type": "code",
   "execution_count": 4,
   "id": "666b1eac-0265-49dd-a5e3-c233d10f703e",
   "metadata": {},
   "outputs": [
    {
     "name": "stdin",
     "output_type": "stream",
     "text": [
      " 4\n",
      " 10 20 100\n",
      " 40 50 150\n",
      " 25 35 200\n",
      " 50 50 300\n"
     ]
    },
    {
     "name": "stdout",
     "output_type": "stream",
     "text": [
      "(10, 20, 100)\n",
      "(40, 50, 150)\n",
      "(25, 35, 200)\n",
      "(50, 50, 300)\n"
     ]
    }
   ],
   "source": [
    "n=int(input())\n",
    "\n",
    "crystals=[]\n",
    "for _ in range(n):\n",
    "    a,b,c=map(int,input().split())\n",
    "    crystals.append((a,b,c))\n",
    "\n",
    "for row in crystals:\n",
    "    print(row)"
   ]
  },
  {
   "cell_type": "code",
   "execution_count": 6,
   "id": "42f0862f-fa75-4f94-81d6-10d1a8deb45b",
   "metadata": {},
   "outputs": [
    {
     "name": "stdin",
     "output_type": "stream",
     "text": [
      " 3\n",
      " 15 25 50\n",
      " 70 60 75\n",
      " 30 200 60\n"
     ]
    },
    {
     "name": "stdout",
     "output_type": "stream",
     "text": [
      "(15, 25, 50)\n",
      "(70, 60, 75)\n",
      "(30, 200, 60)\n"
     ]
    }
   ],
   "source": [
    "m=int(input())\n",
    "\n",
    "mines=[]\n",
    "for _ in range(m):\n",
    "    a,b,c=map(int,input().split())\n",
    "    mines.append((a,b,c))\n",
    "\n",
    "for row in mines:\n",
    "    print(row)"
   ]
  },
  {
   "cell_type": "code",
   "execution_count": 7,
   "id": "4ff77a80-0fae-4b76-935e-62d224d9249c",
   "metadata": {},
   "outputs": [
    {
     "name": "stdout",
     "output_type": "stream",
     "text": [
      "Set parameter Username\n",
      "Set parameter LicenseID to value 2616846\n",
      "Academic license - for non-commercial use only - expires 2026-01-31\n"
     ]
    }
   ],
   "source": [
    "model=gp.Model(\"model1\")"
   ]
  },
  {
   "cell_type": "code",
   "execution_count": 8,
   "id": "77ed4592-f715-4fea-a4b6-7316a7c7bf56",
   "metadata": {},
   "outputs": [],
   "source": [
    "w_model=gp.Model(\"newmodel\")\n"
   ]
  },
  {
   "cell_type": "code",
   "execution_count": 9,
   "id": "8fc55385-52dd-4375-8418-274bdba7d50e",
   "metadata": {},
   "outputs": [],
   "source": [
    "x_values = w_model.addVars(1000, vtype=GRB.CONTINUOUS, name=\"x_coordinates\",lb=0.0,ub=10000.00)\n",
    "y_values = w_model.addVars(1000, vtype=GRB.CONTINUOUS, name=\"y_coordinates\",lb=0.0,ub=10000.00)\n",
    "w_model.update()\n"
   ]
  },
  {
   "cell_type": "code",
   "execution_count": null,
   "id": "4f344140-7ab5-43ed-b88f-72a62a35a279",
   "metadata": {},
   "outputs": [],
   "source": [
    "n=w_model.addVar(vtype=GRB.BINARY,name=\"n\")\n",
    "m=w_model.addVar(vtype=GRB.BINARY,name=\"m\")\n",
    "w_model.update()"
   ]
  },
  {
   "cell_type": "code",
   "execution_count": null,
   "id": "273a3ca1-63b6-4145-ab0b-31f38413694b",
   "metadata": {},
   "outputs": [],
   "source": [
    "w_model.remove(n)\n",
    "w_model.remove(m)\n",
    "w_model.update()"
   ]
  },
  {
   "cell_type": "code",
   "execution_count": 10,
   "id": "134ab02b-0467-4dcb-9e5e-24b76f58ff70",
   "metadata": {},
   "outputs": [],
   "source": [
    "\n",
    "# Define binary helper variables\n",
    "b_vars = w_model.addVars(1000, vtype=GRB.BINARY, name=\"b\")\n",
    "\n",
    "# Big-M constant (choose carefully based on the variable bounds)\n",
    "M = 10000.0  \n",
    "\n",
    "# Add constraints to enforce at least one equality\n",
    "for i in range(1000):\n",
    "    w_model.addConstr(x_values[i] - x_values[(i-1) % 1000] <= M * b_vars[i], name=f\"x_constraint_upper_{i}\")\n",
    "    w_model.addConstr(x_values[(i-1) % 1000] - x_values[i] <= M * b_vars[i], name=f\"x_constraint_lower_{i}\")\n",
    "\n",
    "    w_model.addConstr(y_values[i] - y_values[(i-1) % 1000] <= M * (1 - b_vars[i]), name=f\"y_constraint_upper_{i}\")\n",
    "    w_model.addConstr(y_values[(i-1) % 1000] - y_values[i] <= M * (1 - b_vars[i]), name=f\"y_constraint_lower_{i}\")\n",
    "\n",
    "# Update model\n",
    "w_model.update()\n"
   ]
  },
  {
   "cell_type": "code",
   "execution_count": 11,
   "id": "56159dba-1cdb-4e5b-92e5-6218dd9ff1ae",
   "metadata": {},
   "outputs": [],
   "source": [
    "def sfunc(i,j):\n",
    "  \n",
    "    ximi=x_values[(i-1)%1000]\n",
    "    xjmi=x_values[(j-1)%1000]\n",
    "    xi=x_values[i%1000]\n",
    "    xj=x_values[j%1000]\n",
    "\n",
    "    yimi=y_values[(i-1)%1000]\n",
    "    yjmi=y_values[(j-1)%1000]\n",
    "    yi=y_values[i%1000]\n",
    "    yj=y_values[j%1000]\n",
    "\n",
    "    #for s \n",
    "    \n",
    "    s_num=((yjmi-yimi)*(xi-ximi))-((xjmi-ximi)*(yi-yimi))\n",
    "    s_den=((xj-xjmi)*(yi-yimi))-((xi-ximi)*(yj-yjmi))\n",
    "\n",
    "    s=s_num/s_den\n",
    "    return s\n",
    "\n",
    "def tfunc(i,j):\n",
    "\n",
    "    ximi=x_values[(i-1)%1000]\n",
    "    xjmi=x_values[(j-1)%1000]\n",
    "    xi=x_values[i%1000]\n",
    "    xj=x_values[j%1000]\n",
    "\n",
    "    yimi=y_values[(i-1)%1000]\n",
    "    yjmi=y_values[(j-1)%1000]\n",
    "    yi=y_values[i%1000]\n",
    "    yj=y_values[j%1000]\n",
    "\n",
    "    #for s \n",
    "    \n",
    "    t_num=((yjmi-yimi)*(xj-xjmi))-((xjmi-ximi)*(yj-yjmi))\n",
    "    t_den=((xj-xjmi)*(yi-yimi))-((xi-ximi)*(yj-yjmi))\n",
    "\n",
    "    t=t_num/t_den\n",
    "    return t\n",
    "    \n",
    "    \n",
    "        \n",
    "        "
   ]
  },
  {
   "cell_type": "code",
   "execution_count": 12,
   "id": "a89dc5f1-895f-4fcc-8816-6a0768d0327c",
   "metadata": {},
   "outputs": [
    {
     "name": "stdout",
     "output_type": "stream",
     "text": [
      "Warning: zero or small (< 1e-13) coefficients in quadratic constraints, ignored\n"
     ]
    }
   ],
   "source": [
    "\n",
    "# Define binary helper variables indexed by (i, j, type)\n",
    "b_varss = w_model.addVars(998000 * 2, vtype=GRB.BINARY, name=\"b\")\n",
    "\n",
    "# Constants\n",
    "MM = 10000  # Big-M constant\n",
    "epsilon = 1e-6  \n",
    "\n",
    "# Counter for binary variable index\n",
    "cnt = 0  \n",
    "\n",
    "# Add constraints\n",
    "for i in range(1, 998):\n",
    "    for j in range(i + 2, 1000):\n",
    "        ximi = x_values[i - 1]\n",
    "        xjmi = x_values[j - 1]\n",
    "        xi = x_values[i]\n",
    "        xj = x_values[j]\n",
    "\n",
    "        yimi = y_values[i - 1]\n",
    "        yjmi = y_values[j - 1]\n",
    "        yi = y_values[i]\n",
    "        yj = y_values[j]\n",
    "\n",
    "        # Define auxiliary variable to avoid division\n",
    "        num_x = (yjmi - yimi) * (xi - ximi) - (xjmi - ximi) * (yi - yimi)\n",
    "        den_x = (xj - xjmi) * (yi - yimi) - (xi - ximi) * (yj - yjmi)\n",
    "\n",
    "        num_y = (yjmi - yimi) * (xj - xjmi) - (xjmi - ximi) * (yj - yjmi)\n",
    "        den_y = den_x  # Same denominator\n",
    "\n",
    "        # Use Big-M to enforce strict inequalities\n",
    "        w_model.addConstr(num_x <= -epsilon * den_x + MM * b_varss[cnt], name=f\"x_lt_0_{i}_{j}\")\n",
    "        w_model.addConstr(num_x >= (1 + epsilon) * den_x - MM * (1 - b_varss[cnt]), name=f\"x_gt_1_{i}_{j}\")\n",
    "        cnt += 1\n",
    "\n",
    "        w_model.addConstr(num_y <= -epsilon * den_y + MM * b_varss[cnt], name=f\"y_lt_0_{i}_{j}\")\n",
    "        w_model.addConstr(num_y >= (1 + epsilon) * den_y - MM * (1 - b_varss[cnt]), name=f\"y_gt_1_{i}_{j}\")\n",
    "        cnt += 1\n",
    "\n",
    "# Update model\n",
    "w_model.update()\n"
   ]
  },
  {
   "cell_type": "code",
   "execution_count": 23,
   "id": "31fbb461-f604-46e9-8e0c-0f0287ea70de",
   "metadata": {},
   "outputs": [
    {
     "ename": "GurobiError",
     "evalue": "Variable not in model",
     "output_type": "error",
     "traceback": [
      "\u001b[1;31m---------------------------------------------------------------------------\u001b[0m",
      "\u001b[1;31mGurobiError\u001b[0m                               Traceback (most recent call last)",
      "Cell \u001b[1;32mIn[23], line 20\u001b[0m\n\u001b[0;32m     17\u001b[0m x2, y2 \u001b[38;5;241m=\u001b[39m x_values[j], y_values[j]\n\u001b[0;32m     19\u001b[0m \u001b[38;5;66;03m# Define binary variable crossing_vars[idx, i] = 1 if ray crosses edge (i, j)\u001b[39;00m\n\u001b[1;32m---> 20\u001b[0m model\u001b[38;5;241m.\u001b[39maddConstr(crossing_vars[idx, i] \u001b[38;5;241m<\u001b[39m\u001b[38;5;241m=\u001b[39m (b \u001b[38;5;241m-\u001b[39m y1) \u001b[38;5;241m*\u001b[39m (b \u001b[38;5;241m-\u001b[39m y2) \u001b[38;5;241m*\u001b[39m (\u001b[38;5;241m-\u001b[39m\u001b[38;5;241m1\u001b[39m), name\u001b[38;5;241m=\u001b[39m\u001b[38;5;124mf\u001b[39m\u001b[38;5;124m\"\u001b[39m\u001b[38;5;124mcrossing_cond1_\u001b[39m\u001b[38;5;132;01m{\u001b[39;00midx\u001b[38;5;132;01m}\u001b[39;00m\u001b[38;5;124m_\u001b[39m\u001b[38;5;132;01m{\u001b[39;00mi\u001b[38;5;132;01m}\u001b[39;00m\u001b[38;5;124m\"\u001b[39m)\n\u001b[0;32m     21\u001b[0m model\u001b[38;5;241m.\u001b[39maddConstr(crossing_vars[idx, i] \u001b[38;5;241m<\u001b[39m\u001b[38;5;241m=\u001b[39m (a \u001b[38;5;241m-\u001b[39m x1), name\u001b[38;5;241m=\u001b[39m\u001b[38;5;124mf\u001b[39m\u001b[38;5;124m\"\u001b[39m\u001b[38;5;124mcrossing_cond2_\u001b[39m\u001b[38;5;132;01m{\u001b[39;00midx\u001b[38;5;132;01m}\u001b[39;00m\u001b[38;5;124m_\u001b[39m\u001b[38;5;132;01m{\u001b[39;00mi\u001b[38;5;132;01m}\u001b[39;00m\u001b[38;5;124m\"\u001b[39m)\n\u001b[0;32m     22\u001b[0m model\u001b[38;5;241m.\u001b[39maddConstr(crossing_vars[idx, i] \u001b[38;5;241m>\u001b[39m\u001b[38;5;241m=\u001b[39m (b \u001b[38;5;241m-\u001b[39m y1) \u001b[38;5;241m*\u001b[39m (b \u001b[38;5;241m-\u001b[39m y2) \u001b[38;5;241m*\u001b[39m (\u001b[38;5;241m-\u001b[39m\u001b[38;5;241m1\u001b[39m) \u001b[38;5;241m+\u001b[39m (a \u001b[38;5;241m-\u001b[39m x1) \u001b[38;5;241m-\u001b[39m \u001b[38;5;241m1\u001b[39m, name\u001b[38;5;241m=\u001b[39m\u001b[38;5;124mf\u001b[39m\u001b[38;5;124m\"\u001b[39m\u001b[38;5;124mcrossing_cond3_\u001b[39m\u001b[38;5;132;01m{\u001b[39;00midx\u001b[38;5;132;01m}\u001b[39;00m\u001b[38;5;124m_\u001b[39m\u001b[38;5;132;01m{\u001b[39;00mi\u001b[38;5;132;01m}\u001b[39;00m\u001b[38;5;124m\"\u001b[39m)\n",
      "File \u001b[1;32msrc\\\\gurobipy\\\\_model.pyx:3990\u001b[0m, in \u001b[0;36mgurobipy._model.Model.addConstr\u001b[1;34m()\u001b[0m\n",
      "File \u001b[1;32msrc\\\\gurobipy\\\\_model.pyx:3701\u001b[0m, in \u001b[0;36mgurobipy._model.Model._addConstr\u001b[1;34m()\u001b[0m\n",
      "\u001b[1;31mGurobiError\u001b[0m: Variable not in model"
     ]
    }
   ],
   "source": [
    "inside = model.addVars(n + m, vtype=GRB.BINARY, name=\"inside\")\n",
    "\n",
    "# Binary variables to count crossings for ray tracing\n",
    "crossing_vars = model.addVars(n + m, 1000, vtype=GRB.BINARY, name=\"crossing\")\n",
    "\n",
    "M = 10000  # Large constant for big-M constraints\n",
    "\n",
    "# Apply ray tracing for each crystal and mine\n",
    "for idx, (a, b, c) in enumerate(crystals + mines):\n",
    "    crossing_sum = gp.LinExpr(0)  # To count total crossings\n",
    "\n",
    "    for i in range(1000):\n",
    "        j = (i + 1) % 1000  # Next vertex in the polygon\n",
    "\n",
    "        # Edge endpoints\n",
    "        x1, y1 = x_values[i], y_values[i]\n",
    "        x2, y2 = x_values[j], y_values[j]\n",
    "\n",
    "        # Define binary variable crossing_vars[idx, i] = 1 if ray crosses edge (i, j)\n",
    "        model.addConstr(crossing_vars[idx, i] <= (b - y1) * (b - y2) * (-1), name=f\"crossing_cond1_{idx}_{i}\")\n",
    "        model.addConstr(crossing_vars[idx, i] <= (a - x1), name=f\"crossing_cond2_{idx}_{i}\")\n",
    "        model.addConstr(crossing_vars[idx, i] >= (b - y1) * (b - y2) * (-1) + (a - x1) - 1, name=f\"crossing_cond3_{idx}_{i}\")\n",
    "\n",
    "        # Sum up crossings\n",
    "        crossing_sum += crossing_vars[idx, i]\n",
    "\n",
    "    # Ensure `inside[idx]` captures the odd/even nature of crossings\n",
    "    aux = model.addVar(vtype=GRB.INTEGER, name=f\"aux_{idx}\")\n",
    "    model.addConstr(crossing_sum == 2 * aux + inside[idx])\n",
    "\n",
    "# Compute total score\n",
    "total_score = gp.LinExpr(0)\n",
    "\n",
    "for i in range(n):\n",
    "    total_score += inside[i] * crystals[i][2]\n",
    "\n",
    "for i in range(m):\n",
    "    total_score -= inside[n + i] * mines[i][2]\n"
   ]
  },
  {
   "cell_type": "code",
   "execution_count": null,
   "id": "fd234fc2-16ab-4dbe-a61d-e84bd385254e",
   "metadata": {},
   "outputs": [],
   "source": [
    "# Set objective\n",
    "model.setParam(GRB.Param.IterationLimit, 1000)  # Stop after 10,000 iterations\n",
    "\n",
    "\n",
    "\n",
    "model.setObjective(total_score, GRB.MAXIMIZE)\n",
    "\n",
    "# Optimize the model\n",
    "model.optimize()\n",
    "\n",
    "# Output the optimal score\n",
    "if model.status == GRB.OPTIMAL:\n",
    "    print(f\"Optimal Score: {model.objVal}\")\n",
    "else:\n",
    "    print(\"No optimal solution found.\")"
   ]
  }
 ],
 "metadata": {
  "kernelspec": {
   "display_name": "Python 3 (ipykernel)",
   "language": "python",
   "name": "python3"
  },
  "language_info": {
   "codemirror_mode": {
    "name": "ipython",
    "version": 3
   },
   "file_extension": ".py",
   "mimetype": "text/x-python",
   "name": "python",
   "nbconvert_exporter": "python",
   "pygments_lexer": "ipython3",
   "version": "3.11.7"
  }
 },
 "nbformat": 4,
 "nbformat_minor": 5
}
