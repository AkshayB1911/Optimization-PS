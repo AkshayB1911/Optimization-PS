{
  "cells": [
    {
      "cell_type": "markdown",
      "metadata": {
        "id": "view-in-github",
        "colab_type": "text"
      },
      "source": [
        "<a href=\"https://colab.research.google.com/github/AkshayB1911/Optimization-PS/blob/main/finalnotebook.ipynb\" target=\"_parent\"><img src=\"https://colab.research.google.com/assets/colab-badge.svg\" alt=\"Open In Colab\"/></a>"
      ]
    },
    {
      "cell_type": "code",
      "execution_count": 1,
      "metadata": {
        "colab": {
          "base_uri": "https://localhost:8080/"
        },
        "id": "1eXOMikLFkBd",
        "outputId": "cc3358ec-721d-4ce0-d83a-dd342c8061ed"
      },
      "outputs": [
        {
          "output_type": "stream",
          "name": "stdout",
          "text": [
            "Collecting gurobipy\n",
            "  Downloading gurobipy-12.0.1-cp311-cp311-manylinux2014_x86_64.manylinux_2_17_x86_64.whl.metadata (16 kB)\n",
            "Downloading gurobipy-12.0.1-cp311-cp311-manylinux2014_x86_64.manylinux_2_17_x86_64.whl (14.4 MB)\n",
            "\u001b[2K   \u001b[90m━━━━━━━━━━━━━━━━━━━━━━━━━━━━━━━━━━━━━━━━\u001b[0m \u001b[32m14.4/14.4 MB\u001b[0m \u001b[31m36.3 MB/s\u001b[0m eta \u001b[36m0:00:00\u001b[0m\n",
            "\u001b[?25hInstalling collected packages: gurobipy\n",
            "Successfully installed gurobipy-12.0.1\n"
          ]
        }
      ],
      "source": [
        "!pip install gurobipy"
      ]
    },
    {
      "cell_type": "code",
      "execution_count": 2,
      "metadata": {
        "id": "YGxO-kVXGqGy"
      },
      "outputs": [],
      "source": [
        "import gurobipy as gp"
      ]
    },
    {
      "cell_type": "code",
      "execution_count": 3,
      "metadata": {
        "colab": {
          "base_uri": "https://localhost:8080/"
        },
        "id": "lMgLPX2KGtCM",
        "outputId": "fc1e0fa3-e2a5-4740-8c8f-a5a43930920f"
      },
      "outputs": [
        {
          "output_type": "stream",
          "name": "stdout",
          "text": [
            "Set parameter WLSAccessID\n",
            "Set parameter WLSSecret\n",
            "Set parameter LicenseID to value 2616884\n",
            "Academic license 2616884 - for non-commercial use only - registered to ak___@iitg.ac.in\n"
          ]
        }
      ],
      "source": [
        "params={\n",
        "    \"WLSACCESSID\":'56123837-1b14-432c-b974-a9bb029df73e',\n",
        "    \"WLSSECRET\":'ee7e4faf-676f-472b-b2f8-a196087f18d5',\n",
        "    \"LICENSEID\":2616884\n",
        "}\n",
        "env=gp.Env(params=params)\n",
        "\n",
        "model=gp.Model(env=env)"
      ]
    },
    {
      "cell_type": "code",
      "execution_count": null,
      "metadata": {
        "id": "dYxUuaVQHJZU"
      },
      "outputs": [],
      "source": [
        "from gurobipy import GRB"
      ]
    },
    {
      "cell_type": "code",
      "execution_count": 4,
      "metadata": {
        "id": "gCA3u_vgHhFM"
      },
      "outputs": [],
      "source": [
        "n=4\n",
        "\n",
        "crystals=[[10,20,100],[40,50,150],[25,35,200],[50,50,300]]\n",
        "m=3\n",
        "mines=[[15,25,50],[70,60,75],[30,200,60]]\n"
      ]
    },
    {
      "cell_type": "code",
      "execution_count": 5,
      "metadata": {
        "colab": {
          "base_uri": "https://localhost:8080/"
        },
        "id": "gwR8GG_VQ3QJ",
        "outputId": "cbfd72e5-285d-4dc4-dc2c-1d45df76c607"
      },
      "outputs": [
        {
          "output_type": "stream",
          "name": "stdout",
          "text": [
            "Set parameter WLSAccessID\n",
            "Set parameter WLSSecret\n",
            "Set parameter LicenseID to value 2616884\n",
            "Academic license 2616884 - for non-commercial use only - registered to ak___@iitg.ac.in\n",
            "Set parameter MIPFocus to value 1\n",
            "Set parameter NumericFocus to value 3\n",
            "Warning: zero or small (< 1e-13) coefficients in quadratic constraints, ignored\n",
            "Gurobi Optimizer version 12.0.1 build v12.0.1rc0 (linux64 - \"Ubuntu 22.04.4 LTS\")\n",
            "\n",
            "CPU model: AMD EPYC 7B12, instruction set [SSE2|AVX|AVX2]\n",
            "Thread count: 1 physical cores, 2 logical processors, using up to 2 threads\n",
            "\n",
            "Non-default parameters:\n",
            "MIPFocus  1\n",
            "NumericFocus  3\n",
            "\n",
            "Academic license 2616884 - for non-commercial use only - registered to ak___@iitg.ac.in\n",
            "Optimize a model with 104 rows, 257 columns and 456 nonzeros\n",
            "Model fingerprint: 0x5d24a562\n",
            "Model has 112 quadratic constraints\n",
            "Model has 162 simple general constraints\n",
            "  36 MAX, 36 MIN, 90 INDICATOR\n",
            "Variable types: 88 continuous, 169 integer (151 binary)\n",
            "Coefficient statistics:\n",
            "  Matrix range     [1e+00, 1e+05]\n",
            "  QMatrix range    [1e+00, 1e+00]\n",
            "  QLMatrix range   [1e+01, 1e+05]\n",
            "  Objective range  [5e+01, 3e+02]\n",
            "  Bounds range     [1e+00, 1e+04]\n",
            "  RHS range        [1e+00, 2e+05]\n",
            "  QRHS range       [1e+05, 1e+05]\n",
            "  GenCon rhs range [1e-05, 1e+00]\n",
            "  GenCon coe range [1e+00, 1e+00]\n",
            "Presolve added 382 rows and 324 columns\n",
            "Presolve time: 0.01s\n",
            "Presolved: 566 rows, 598 columns, 1938 nonzeros\n",
            "Presolved model has 216 SOS constraint(s)\n",
            "Presolved model has 16 bilinear constraint(s)\n",
            "\n",
            "Solving non-convex MIQCP\n",
            "\n",
            "Variable types: 337 continuous, 261 integer (261 binary)\n",
            "\n",
            "Root relaxation: objective 7.500000e+02, 291 iterations, 0.01 seconds (0.00 work units)\n",
            "\n",
            "    Nodes    |    Current Node    |     Objective Bounds      |     Work\n",
            " Expl Unexpl |  Obj  Depth IntInf | Incumbent    BestBd   Gap | It/Node Time\n",
            "\n",
            "     0     0  750.00000    0   53          -  750.00000      -     -    0s\n",
            "H    0     0                      -0.0000000  750.00000      -     -    0s\n",
            "     0     2  750.00000    0   53   -0.00000  750.00000      -     -    0s\n",
            "H  130   118                     100.0000000  750.00000   650%   7.5    0s\n",
            "H  208   170                     300.0000000  750.00000   150%   7.3    0s\n",
            "H  260   212                     550.0000000  750.00000  36.4%   8.0    0s\n",
            "H  500     7                     750.0000000  750.00000  0.00%   8.2    0s\n",
            "\n",
            "Explored 501 nodes (4660 simplex iterations) in 0.57 seconds (0.35 work units)\n",
            "Thread count was 2 (of 2 available processors)\n",
            "\n",
            "Solution count 5: 750 550 300 ... -0\n",
            "\n",
            "Optimal solution found (tolerance 1.00e-04)\n",
            "Warning: max constraint violation (1.0000e-05) exceeds tolerance\n",
            "Warning: max general constraint violation (1.0000e-05) exceeds tolerance\n",
            "Best objective 7.500000000000e+02, best bound 7.500000000000e+02, gap 0.0000%\n",
            "\n",
            "Optimal Polygon Vertex Coordinates:\n",
            " Vertex 0: (x = 0.0, y = 50.99413793467942)\n",
            " Vertex 1: (x = 0.0, y = 0.0)\n",
            " Vertex 2: (x = 5.0, y = 0.0)\n",
            " Vertex 3: (x = 5.0, y = 50.0)\n",
            " Vertex 4: (x = 10.0, y = 50.0)\n",
            " Vertex 5: (x = 10.0, y = 0.0)\n",
            " Vertex 6: (x = 25.0, y = 0.0)\n",
            " Vertex 7: (x = 25.0, y = 50.99413793467942)\n",
            "\n",
            "Total Score = 750.0\n"
          ]
        }
      ],
      "source": [
        "import gurobipy as gp\n",
        "from gurobipy import GRB\n",
        "\n",

        "# Data\n",

        "# Points: each is [x, y, value]\n",
        "crystals = [\n",
        "    [10, 20, 100],\n",
        "    [40, 50, 150],\n",
        "    [25, 35, 200],\n",
        "    [50, 50, 300]\n",
        "]\n",
        "mines = [\n",
        "    [15, 25, 50],\n",
        "    [70, 60, 75],\n",
        "    [30, 200, 60]\n",
        "]\n",
        "n_crystals = len(crystals)\n",
        "n_mines = len(mines)\n",
        "\n",
      
        "# Model Parameters\n",

        "n_vertices = 8             # Reduced number of vertices for better convergence\n",
        "big_M = 100000            # Increased Big-M constant\n",
        "M_sep = 100000            # Increased separation constant\n",
        "delta = 5.0               # Reduced minimum edge length\n",
        "epsilon_convex = 1e-6     # Reduced epsilon for numerical stability\n",
        "\n",
        "# Calculate center point based on data points\n",
        "center_x = sum(p[0] for p in crystals + mines) / (n_crystals + n_mines)\n",
        "center_y = sum(p[1] for p in crystals + mines) / (n_crystals + n_mines)\n",
        "\n",
 
        "# Create the Model\n",

        "params={\n",
        "    \"WLSACCESSID\":'56123837-1b14-432c-b974-a9bb029df73e',\n",
        "    \"WLSSECRET\":'ee7e4faf-676f-472b-b2f8-a196087f18d5',\n",
        "    \"LICENSEID\":2616884\n",
        "}\n",
        "env=gp.Env(params=params)\n",
        "model=gp.Model(env=env)\n",
        "\n",
        "epsilon=1e-5\n",
        "\n",
        "# Add MIPFocus parameter to emphasize finding feasible solutions\n",
        "model.setParam('MIPFocus', 1)\n",
        "model.setParam('NumericFocus', 3)  # Increase numeric focus for better stability\n",
        "\n",
        
        "# (A) Polygon Variables\n",

        "# Vertex coordinates (continuous)\n",
        "x = model.addVars(n_vertices, lb=0, ub=10000.0, name=\"x\")\n",
        "y = model.addVars(n_vertices, lb=0, ub=10000.0, name=\"y\")\n",
        "\n",
        "# Binary variables for edge orientation\n",
        "b = model.addVars(n_vertices, vtype=GRB.BINARY, name=\"b\")\n",
        "d = model.addVars(n_vertices, vtype=GRB.BINARY, name=\"d\")\n",
        "\n",
   
        "# (B) Enforce Alternating Edge Orientation\n",
     
        "for i in range(n_vertices):\n",
        "    model.addConstr(b[i] + b[(i+1) % n_vertices] == 1, name=f\"alternating_{i}\")\n",
        "\n",

        "# (C) Edge Non-Degeneracy and Minimum Length Constraints\n",
       
        "for i in range(n_vertices):\n",
        "    i_next = (i + 1) % n_vertices\n",
        "\n",
        "    # Horizontal/vertical constraints\n",
        "    model.addConstr(y[i] - y[i_next] <= big_M * (1 - b[i]), name=f\"hor_y_upper_{i}\")\n",
        "    model.addConstr(y[i] - y[i_next] >= -big_M * (1 - b[i]), name=f\"hor_y_lower_{i}\")\n",
        "    model.addConstr(x[i] - x[i_next] <= big_M * b[i], name=f\"ver_x_upper_{i}\")\n",
        "    model.addConstr(x[i] - x[i_next] >= -big_M * b[i], name=f\"ver_x_lower_{i}\")\n",
        "\n",
        "    # Minimum length constraints with direction\n",
        "    model.addConstr(x[i_next] - x[i] >= delta - big_M*(1 - d[i]) - big_M*(1 - b[i]))\n",
        "    model.addConstr(x[i] - x[i_next] >= delta - big_M*d[i] - big_M*(1 - b[i]))\n",
        "    model.addConstr(y[i_next] - y[i] >= delta - big_M*(1 - d[i]) - big_M*b[i])\n",
        "    model.addConstr(y[i] - y[i_next] >= delta - big_M*d[i] - big_M*b[i])\n",
        "\n",
     
        "# (D) Non-Intersection Constraints\n",
 
        "M=1e6\n",
        "for i in range(n_vertices):\n",
        "  for j in range(i+2,n_vertices):\n",
        "    if((i%2)!=(j%2)):\n",
        "      i_next=(i+1)%n_vertices\n",
        "      j_next=(j+1)%n_vertices\n",
        "\n",
        "      # When b==1, enforce constraint1\n",
        "\n",
        "      #b==1 indicates that i edge is horizontal constraint 1\n",
        "      i_hor_sum = model.addVar(vtype=GRB.INTEGER,name=f\"i_hor_sum{i}_{j}\")\n",
        "\n",
        "      xi_hor_min=model.addVar()\n",
        "      xi_hor_max=model.addVar()\n",
        "      model.addGenConstrMin(xi_hor_min, [x[i], x[i_next]], name=\"min_constraint\")\n",
        "      model.addGenConstrMax(xi_hor_max, [x[i], x[i_next]], name=\"max_constraint\")\n",
        "\n",
        "      yj_ver_min=model.addVar()\n",
        "      yj_ver_max=model.addVar()\n",
        "      model.addGenConstrMin(yj_ver_min, [y[j], y[j_next]], name=\"min_constraint\")\n",
        "      model.addGenConstrMax(yj_ver_max, [y[j], y[j_next]], name=\"max_constraint\")\n",
        "\n",
        "      hor1=model.addVar(vtype=GRB.BINARY)\n",
        "      hor2=model.addVar(vtype=GRB.BINARY)\n",
        "      hor3=model.addVar(vtype=GRB.BINARY)\n",
        "      hor4=model.addVar(vtype=GRB.BINARY)\n",
        "\n",
        "      model.addGenConstrIndicator(hor1,1,x[j]>=epsilon+xi_hor_max, name=f\"if_case{i}_{j}\")\n",
        "      model.addGenConstrIndicator(hor2,1,x[j]<=xi_hor_min-epsilon, name=f\"if_case{i}_{j}\")\n",
        "      model.addGenConstrIndicator(hor3,1,y[i]>=epsilon+yj_ver_max, name=f\"if_case{i}_{j}\")\n",
        "      model.addGenConstrIndicator(hor4,1,y[i]<=yj_ver_min-epsilon, name=f\"if_case{i}_{j}\")\n",
        "\n",
        "      model.addConstr(i_hor_sum==hor1+hor2+hor3+hor4)\n",
        "\n",
        "      model.addGenConstrIndicator(b[i],1,i_hor_sum>=1, name=f\"if_case{i}_{j}\")\n",
        "\n",
        "\n",
        "\n",
        "\n",
        "\n",
        "      i_ver_sum = model.addVar(vtype=GRB.INTEGER,name=f\"i_hor_sum{i}_{j}\")\n",
        "\n",
        "      yi_ver_min=model.addVar()\n",
        "      yi_ver_max=model.addVar()\n",
        "      model.addGenConstrMin(yi_ver_min, [y[i], y[i_next]], name=\"min_constraint\")\n",
        "      model.addGenConstrMax(yi_ver_max, [y[i], y[i_next]], name=\"max_constraint\")\n",
        "\n",
        "      xj_hor_min=model.addVar()\n",
        "      xj_hor_max=model.addVar()\n",
        "      model.addGenConstrMin(xj_hor_min, [x[j], x[j_next]], name=\"min_constraint\")\n",
        "      model.addGenConstrMax(xj_hor_max, [x[j], x[j_next]], name=\"max_constraint\")\n",
        "\n",
        "      ver1=model.addVar(vtype=GRB.BINARY)\n",
        "      ver2=model.addVar(vtype=GRB.BINARY)\n",
        "      ver3=model.addVar(vtype=GRB.BINARY)\n",
        "      ver4=model.addVar(vtype=GRB.BINARY)\n",
        "\n",
        "      model.addGenConstrIndicator(ver1,1,x[i]<=xj_hor_min-epsilon, name=f\"if_case{i}_{j}\")\n",
        "      model.addGenConstrIndicator(ver2,1,x[i]>=epsilon+xj_hor_max, name=f\"if_case{i}_{j}\")\n",
        "      model.addGenConstrIndicator(ver3,1,y[j]>=epsilon+yi_ver_max, name=f\"if_case{i}_{j}\")\n",
        "      model.addGenConstrIndicator(ver4,1,y[j]<=yi_ver_min-epsilon, name=f\"if_case{i}_{j}\")\n",
        "\n",
        "      model.addConstr(i_ver_sum==ver1+ver2+ver3+ver4)\n",
        "      model.addGenConstrIndicator(b[i],0,i_ver_sum>=1, name=f\"if_case{i}_{j}\")\n",
        "\n",
        "\n",
        "\n",
        "\n",
 
        "# (E) Point-Inclusion Constraints (Cross Product Method)\n",
      
        "inside_vars = []\n",
        "for p, (xp, yp, _) in enumerate(crystals + mines):\n",
        "    inside = model.addVar(vtype=GRB.BINARY, name=f\"inside_{p}\")\n",
        "    inside_vars.append(inside)\n",
        "    cross_vars = model.addVars(n_vertices, vtype=GRB.BINARY, name=f\"cross_{p}\")\n",
        "\n",
        "    for i in range(n_vertices):\n",
        "        i_next = (i + 1) % n_vertices\n",
        "        cross_expr = (x[i_next] - x[i]) * (yp - y[i]) - (y[i_next] - y[i]) * (xp - x[i])\n",
        "        model.addConstr(cross_expr >= -epsilon_convex - big_M * (1 - cross_vars[i]))\n",
        "        model.addConstr(cross_expr <= epsilon_convex + big_M * (1 - cross_vars[i]))\n",
        "\n",
        "    model.addConstr(inside <= gp.quicksum(cross_vars[i] for i in range(n_vertices)))\n",
        "    model.addConstr(inside >= gp.quicksum(cross_vars[i] for i in range(n_vertices)) - n_vertices + 1)\n",
        "\n",

        "# (F) Objective\n",
        
        "objective_expr = gp.quicksum(crystals[p][2] * inside_vars[p] for p in range(n_crystals)) \\\n",
        "               - gp.quicksum(mines[p][2] * inside_vars[p + n_crystals] for p in range(n_mines))\n",
        "model.setObjective(objective_expr, GRB.MAXIMIZE)\n",
        "\n",
    
        "# Solve the Model\n",
   
        "model.update()\n",
        "model.optimize()\n",
        "\n",
     
        "# Report Results\n",
      
        "if model.status == GRB.OPTIMAL:\n",
        "    print(\"\\nOptimal Polygon Vertex Coordinates:\")\n",
        "    for i in range(n_vertices):\n",
        "        print(f\" Vertex {i}: (x = {x[i].X}, y = {y[i].X})\")\n",
        "    print(\"\\nTotal Score =\", model.ObjVal)\n",
        "else:\n",
        "    print(f\"Optimization ended with status {model.status}\")\n"
      ]
    },
    {
      "cell_type": "markdown",
      "metadata": {
        "id": "4gbESu92PUFP"
      },
      "source": [
        "above one is the best till now\n"
      ]
    },
    {
      "cell_type": "code",
      "execution_count": null,
      "metadata": {
        "id": "vuysk5WkPik0"
      },
      "outputs": [],
      "source": []
    }
  ],
  "metadata": {
    "colab": {
      "provenance": [],
      "authorship_tag": "ABX9TyOVtceoGRTJkF97mW+TcKse",
      "include_colab_link": true
    },
    "kernelspec": {
      "display_name": "Python 3",
      "name": "python3"
    },
    "language_info": {
      "name": "python"
    }
  },
  "nbformat": 4,
  "nbformat_minor": 0
}
