{
 "cells": [
  {
   "cell_type": "code",
   "execution_count": 1,
   "metadata": {},
   "outputs": [],
   "source": [
    "import os\n",
    "os.environ['GRB_LICENSE_FILE'] = r'C:\\Users\\AKSHAY\\gurobi.lic'"
   ]
  },
  {
   "cell_type": "code",
   "execution_count": 2,
   "metadata": {},
   "outputs": [],
   "source": [
    "from gurobipy import Model, GRB, quicksum"
   ]
  },
  {
   "cell_type": "code",
   "execution_count": null,
   "metadata": {},
   "outputs": [],
   "source": []
  },
  {
   "cell_type": "code",
   "execution_count": 3,
   "metadata": {},
   "outputs": [],
   "source": [
    "# Input Data\n",
    "stellar_crystals = [(10, 20, 100), (40, 50, 150), (25, 35, 200), (80, 50, 300)]\n",
    "void_mines = [(15, 25, 50), (70, 60, 75), (30, 200, 60)]\n",
    "n = len(stellar_crystals)\n",
    "m = len(void_mines)"
   ]
  },
  {
   "cell_type": "code",
   "execution_count": 4,
   "metadata": {},
   "outputs": [
    {
     "name": "stdout",
     "output_type": "stream",
     "text": [
      "Set parameter Username\n",
      "Set parameter LicenseID to value 2616846\n",
      "Academic license - for non-commercial use only - expires 2026-01-31\n"
     ]
    }
   ],
   "source": [
    "# Create Model\n",
    "model = Model(\"Polygon_Containment\")\n",
    "\n",
    "# Number of polygon vertices\n",
    "num_vertices = 1000"
   ]
  },
  {
   "cell_type": "code",
   "execution_count": 5,
   "metadata": {},
   "outputs": [],
   "source": [
    "# Decision Variables\n",
    "x = model.addVars(num_vertices, vtype = GRB.CONTINUOUS, lb = 0, ub = 10000, name = \"X\")  # X-coordinates of polygon\n",
    "y = model.addVars(num_vertices, vtype = GRB.CONTINUOUS, lb = 0, ub = 10000, name = \"Y\")  # Y-coordinates of polygon\n",
    "z = model.addVars(n, vtype = GRB.BINARY, name = \"Stellar_Inside\")  # Stellar Crystal inclusion\n",
    "w = model.addVars(m, vtype = GRB.BINARY, name = \"Void_Inside\")  # Void Mine inclusion"
   ]
  },
  {
   "cell_type": "code",
   "execution_count": 6,
   "metadata": {},
   "outputs": [],
   "source": [
    "# Objective Function: Maximize net value\n",
    "model.setObjective(\n",
    "    quicksum(stellar_crystals[i][2] * z[i] for i in range(n)) - quicksum(void_mines[j][2] * w[j] for j in range(m)),\n",
    "    GRB.MAXIMIZE\n",
    ")"
   ]
  },
  {
   "cell_type": "code",
   "execution_count": 7,
   "metadata": {},
   "outputs": [
    {
     "data": {
      "text/plain": [
       "<gurobi.Constr *Awaiting Model Update*>"
      ]
     },
     "execution_count": 7,
     "metadata": {},
     "output_type": "execute_result"
    }
   ],
   "source": [
    "# Constraint 1: Closed polygon\n",
    "\n",
    "model.addConstr(x[num_vertices - 1] == x[0])\n",
    "model.addConstr(y[num_vertices - 1] == y[0])"
   ]
  },
  {
   "cell_type": "code",
   "execution_count": 8,
   "metadata": {},
   "outputs": [],
   "source": [
    "# Constraint 2: Ensure edges are horizontal or vertical\n",
    "big_M = 10000  # Large constant for Big-M constraints\n",
    "for v in range(num_vertices - 1):\n",
    "    is_horizontal = model.addVar(vtype=GRB.BINARY, name=f\"IsHorizontal_{v}\")  # 1 if horizontal, 0 if vertical\n",
    "\n",
    "    # Ensure movement in x OR y direction\n",
    "    model.addConstr(x[v+1] - x[v] <= big_M * is_horizontal)\n",
    "    model.addConstr(y[v+1] - y[v] <= big_M * (1 - is_horizontal))\n",
    "\n",
    "    # Ensure actual movement happens\n",
    "    model.addConstr((x[v+1] - x[v]) + (y[v+1] - y[v]) >= 1, f\"force_movement_{v}\")"
   ]
  },
  {
   "cell_type": "code",
   "execution_count": 9,
   "metadata": {},
   "outputs": [
    {
     "name": "stdout",
     "output_type": "stream",
     "text": [
      "Warning: zero or small (< 1e-13) coefficients in quadratic constraints, ignored\n"
     ]
    }
   ],
   "source": [
    "# Constraint 3: Non-Self-Intersection using Orientation Function\n",
    "for i in range(num_vertices - 2):\n",
    "    for j in range(i + 2, num_vertices - 1):  # Ensure we only compare non-adjacent edges\n",
    "        if i == 0 and j == num_vertices - 2:  # Ignore first and last edge connection\n",
    "            continue\n",
    "        \n",
    "        # Create auxiliary variables for orientation values\n",
    "        o1 = model.addVar(vtype=GRB.CONTINUOUS, name=f\"Orientation_o1_{i}_{j}\")\n",
    "        o2 = model.addVar(vtype=GRB.CONTINUOUS, name=f\"Orientation_o2_{i}_{j}\")\n",
    "        o3 = model.addVar(vtype=GRB.CONTINUOUS, name=f\"Orientation_o3_{i}_{j}\")\n",
    "        o4 = model.addVar(vtype=GRB.CONTINUOUS, name=f\"Orientation_o4_{i}_{j}\")\n",
    "\n",
    "        # Compute orientation values using constraints\n",
    "        model.addConstr(o1 == (y[j] - y[i]) * (x[i+1] - x[i]) - (x[j] - x[i]) * (y[i+1] - y[i]))\n",
    "        model.addConstr(o2 == (y[j+1] - y[i]) * (x[i+1] - x[i]) - (x[j+1] - x[i]) * (y[i+1] - y[i]))\n",
    "        model.addConstr(o3 == (y[i] - y[j]) * (x[j+1] - x[j]) - (x[i] - x[j]) * (y[j+1] - y[j]))\n",
    "        model.addConstr(o4 == (y[i+1] - y[j]) * (x[j+1] - x[j]) - (x[i+1] - x[j]) * (y[j+1] - y[j]))\n",
    "\n",
    "        # Binary variables to enforce non-self-intersection\n",
    "        b1 = model.addVar(vtype=GRB.BINARY, name=f\"b1_{i}_{j}\")\n",
    "        b2 = model.addVar(vtype=GRB.BINARY, name=f\"b2_{i}_{j}\")\n",
    "\n",
    "        # Big-M constraints to enforce correct intersection conditions\n",
    "        model.addConstr(o1 <= big_M * b1)\n",
    "        model.addConstr(o2 >= -big_M * (1 - b1))\n",
    "\n",
    "        model.addConstr(o3 <= big_M * b2)\n",
    "        model.addConstr(o4 >= -big_M * (1 - b2))\n",
    "\n",
    "        # Ensure that at least one condition holds\n",
    "        model.addConstr(b1 + b2 >= 1, f\"no_intersection_{i}_{j}\")\n"
   ]
  },
  {
   "cell_type": "code",
   "execution_count": 10,
   "metadata": {},
   "outputs": [
    {
     "name": "stdout",
     "output_type": "stream",
     "text": [
      "Gurobi Optimizer version 12.0.0 build v12.0.0rc1 (win64 - Windows 11.0 (22631.2))\n",
      "\n",
      "CPU model: AMD Ryzen 5 5600H with Radeon Graphics, instruction set [SSE2|AVX|AVX2]\n",
      "Thread count: 6 physical cores, 12 logical processors, using up to 12 threads\n",
      "\n",
      "Optimize a model with 2490509 rows, 2988018 columns and 4985014 nonzeros\n",
      "Model fingerprint: 0x234c735c\n",
      "Model has 1990008 quadratic constraints\n",
      "Variable types: 1992008 continuous, 996010 integer (996010 binary)\n",
      "Coefficient statistics:\n",
      "  Matrix range     [1e+00, 1e+04]\n",
      "  QMatrix range    [1e+00, 1e+00]\n",
      "  QLMatrix range   [1e+00, 1e+00]\n",
      "  Objective range  [5e+01, 3e+02]\n",
      "  Bounds range     [1e+00, 1e+04]\n",
      "  RHS range        [1e+00, 1e+04]\n",
      "Presolve removed 2487512 rows and 1990017 columns (presolve time = 8s)...\n",
      "Presolve removed 2487512 rows and 1990017 columns (presolve time = 12s)...\n",
      "Presolve removed 2487512 rows and 1990017 columns (presolve time = 18s)...\n",
      "Presolve removed 2487512 rows and 1990017 columns\n",
      "Presolve time: 18.34s\n",
      "Presolved: 4986009 rows, 1995004 columns, 14951034 nonzeros\n",
      "Presolved model has 997002 bilinear constraint(s)\n",
      "\n",
      "Solving non-convex MIQCP\n",
      "\n",
      "Variable types: 1994005 continuous, 999 integer (999 binary)\n",
      "Performing another presolve...\n",
      "Presolve removed 0 rows and 1 columns (presolve time = 5s)...\n",
      "Presolve removed 0 rows and 1 columns (presolve time = 11s)...\n",
      "Presolve removed 0 rows and 1 columns (presolve time = 17s)...\n",
      "Presolve removed 0 rows and 1 columns\n",
      "Presolve time: 17.00s\n",
      "\n",
      "Deterministic concurrent LP optimizer: primal simplex, dual simplex, and barrier\n",
      "Showing barrier log only...\n",
      "\n",
      "Root barrier log...\n",
      "\n",
      "Elapsed ordering time = 6s\n",
      "Elapsed ordering time = 22s\n",
      "Elapsed ordering time = 25s\n",
      "Elapsed ordering time = 51s\n",
      "Elapsed ordering time = 55s\n",
      "Elapsed ordering time = 60s\n",
      "Elapsed ordering time = 65s\n",
      "Elapsed ordering time = 70s\n",
      "Elapsed ordering time = 75s\n",
      "Ordering time: 78.75s\n",
      "\n",
      "Barrier performed 0 iterations in 1059.91 seconds (158.96 work units)\n",
      "Optimization exhausted available memory\n",
      "\n",
      "Warning: Possible non-determinism after error\n",
      "\n",
      "Solved with primal simplex\n",
      "\n",
      "Explored 1 nodes (0 simplex iterations) in 1060.82 seconds (158.96 work units)\n",
      "Thread count was 12 (of 12 available processors)\n",
      "\n",
      "Solution count 0\n",
      "\n",
      "Solve interrupted (error code 10001)\n",
      "Best objective -, best bound 7.500000000000e+02, gap -\n"
     ]
    },
    {
     "ename": "GurobiError",
     "evalue": "Out of memory",
     "output_type": "error",
     "traceback": [
      "\u001b[1;31m---------------------------------------------------------------------------\u001b[0m",
      "\u001b[1;31mGurobiError\u001b[0m                               Traceback (most recent call last)",
      "Cell \u001b[1;32mIn[10], line 1\u001b[0m\n\u001b[1;32m----> 1\u001b[0m model\u001b[38;5;241m.\u001b[39moptimize()\n",
      "File \u001b[1;32msrc\\\\gurobipy\\\\_model.pyx:901\u001b[0m, in \u001b[0;36mgurobipy._model.Model.optimize\u001b[1;34m()\u001b[0m\n",
      "\u001b[1;31mGurobiError\u001b[0m: Out of memory"
     ]
    }
   ],
   "source": [
    "model.optimize()"
   ]
  },
  {
   "cell_type": "code",
   "execution_count": 12,
   "metadata": {},
   "outputs": [],
   "source": [
    "# Output Results\n",
    "if model.status == GRB.OPTIMAL:\n",
    "    print(f\"Optimal Net Value: {model.objVal}\")\n",
    "    \n",
    "    points = []\n",
    "    for v in range(num_vertices):\n",
    "        x_val = round(x[v].x)\n",
    "        y_val = round(y[v].x)\n",
    "        points.append((x_val, y_val))\n",
    "    \n",
    "    # Ensure it is a closed polygon\n",
    "    points.append(points[0])\n",
    "\n",
    "    print(\"\\nFinal Polygon Vertices:\")\n",
    "    for p in points:\n",
    "        print(p)\n",
    "    \n",
    "    # Optional: Plot the polygon\n",
    "    import matplotlib.pyplot as plt\n",
    "\n",
    "    px, py = zip(*points)\n",
    "    \n",
    "    plt.figure(figsize=(6,6))\n",
    "    plt.plot(px, py, marker=\"o\", linestyle=\"-\", color=\"blue\", markersize=4)\n",
    "    plt.xlim(0, 10000)\n",
    "    plt.ylim(0, 10000)\n",
    "    plt.grid(True)\n",
    "    plt.title(\"Optimized Non-Self-Intersecting Polygon\")\n",
    "    plt.show()"
   ]
  },
  {
   "cell_type": "code",
   "execution_count": null,
   "metadata": {},
   "outputs": [],
   "source": []
  }
 ],
 "metadata": {
  "kernelspec": {
   "display_name": "Python 3 (ipykernel)",
   "language": "python",
   "name": "python3"
  },
  "language_info": {
   "codemirror_mode": {
    "name": "ipython",
    "version": 3
   },
   "file_extension": ".py",
   "mimetype": "text/x-python",
   "name": "python",
   "nbconvert_exporter": "python",
   "pygments_lexer": "ipython3",
   "version": "3.11.7"
  }
 },
 "nbformat": 4,
 "nbformat_minor": 4
}
